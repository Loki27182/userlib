{
 "cells": [
  {
   "cell_type": "code",
   "execution_count": 11,
   "metadata": {},
   "outputs": [
    {
     "name": "stdout",
     "output_type": "stream",
     "text": [
      "connecting to server 192.168.2.99 port 6750\n",
      "I'm not impressed!\n",
      "connection to ('192.168.2.99', 6750) has been closed\n"
     ]
    }
   ],
   "source": [
    "from pynqcom import LINK\n",
    "\n",
    "connection = LINK()\n",
    "\n",
    "connection.send_string(\"hl.h..lhl..h.lhl\")\n",
    "print(connection.receive_string() )\n",
    "\n",
    "del connection"
   ]
  },
  {
   "cell_type": "code",
   "execution_count": null,
   "metadata": {
    "collapsed": true
   },
   "outputs": [],
   "source": []
  }
 ],
 "metadata": {
  "kernelspec": {
   "display_name": "Python 2",
   "language": "python",
   "name": "python2"
  },
  "language_info": {
   "codemirror_mode": {
    "name": "ipython",
    "version": 2
   },
   "file_extension": ".py",
   "mimetype": "text/x-python",
   "name": "python",
   "nbconvert_exporter": "python",
   "pygments_lexer": "ipython2",
   "version": "2.7.15"
  }
 },
 "nbformat": 4,
 "nbformat_minor": 2
}
